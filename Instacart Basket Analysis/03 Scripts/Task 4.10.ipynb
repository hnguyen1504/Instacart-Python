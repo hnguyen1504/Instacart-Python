{
 "cells": [
  {
   "cell_type": "code",
   "execution_count": 2,
   "id": "c0396c4c",
   "metadata": {},
   "outputs": [],
   "source": [
    "#import libraries\n",
    "import pandas as pd\n",
    "import numpy as np\n",
    "import os\n",
    "import seaborn as sns\n",
    "import matplotlib.pyplot as plt\n",
    "import scipy"
   ]
  },
  {
   "cell_type": "code",
   "execution_count": 3,
   "id": "b4236be3",
   "metadata": {},
   "outputs": [],
   "source": [
    "path = r'C:\\Users\\hnguy\\OneDrive\\Documents\\Instacart Basket Analysis'"
   ]
  },
  {
   "cell_type": "code",
   "execution_count": 5,
   "id": "f27f18ac",
   "metadata": {},
   "outputs": [],
   "source": [
    "#import latest data\n",
    "ords_prods_custs = pd.read_pickle(os.path.join(path, '02 Data', 'Prepared Data', 'df_merged_final.pkl'))"
   ]
  },
  {
   "cell_type": "markdown",
   "id": "e65ea712",
   "metadata": {},
   "source": [
    "Consider any security implications that might exist for this new data. You'll need to address any PII data in the data before continuing your analysis."
   ]
  },
  {
   "cell_type": "markdown",
   "id": "8f164c6b",
   "metadata": {},
   "source": [
    "The customer data set contains lots of PII data since it has the customers' personal information, such as name, address, and salary. I will leave the PII data alone since there are no instructions specified in the project brief."
   ]
  },
  {
   "cell_type": "markdown",
   "id": "37fc007d",
   "metadata": {},
   "source": [
    "# Create regional segmentation of data"
   ]
  },
  {
   "cell_type": "markdown",
   "id": "a893259e",
   "metadata": {},
   "source": [
    "The Instacart officers are interested in comparing customer behavior in different geographic areas. Create a regional segmentation of the data. You'll need to create a \"Region\" column based on the \"State\" column from your customers data set. "
   ]
  },
  {
   "cell_type": "code",
   "execution_count": 6,
   "id": "cd235301",
   "metadata": {},
   "outputs": [
    {
     "data": {
      "text/plain": [
       "0    Alabama\n",
       "1    Alabama\n",
       "2    Alabama\n",
       "3    Alabama\n",
       "4    Alabama\n",
       "Name: state, dtype: object"
      ]
     },
     "execution_count": 6,
     "metadata": {},
     "output_type": "execute_result"
    }
   ],
   "source": [
    "ords_prods_custs['state'].head()"
   ]
  },
  {
   "cell_type": "code",
   "execution_count": 8,
   "id": "a1570995",
   "metadata": {},
   "outputs": [],
   "source": [
    "#creating region list\n",
    "Region = []\n",
    "\n",
    "for value in ords_prods_custs ['state']:\n",
    "    if value == 'Maine' or value == 'New Hampshire' or value == 'Vermont' or value == 'Massachusetts' or value == 'Rhode Island' or value == 'Connecticut' or value == 'New York' or value == 'Pennsylvania' or value == 'New Jersey':\n",
    "        Region.append('North East')\n",
    "    elif value == 'Wisconsin' or value == 'Michigan' or value == 'Illinois' or value == 'Indiana' or value == 'Ohio' or value == 'North Dakota' or value == 'South Dakota' or value == 'Nebraska' or value == 'Kansas' or value == 'Minnesota' or value == 'Iowa' or value == 'Missouri':\n",
    "        Region.append('Midwest')\n",
    "    elif value == 'Delaware' or value == 'Maryland' or value == 'District of Columbia' or value == 'Virginia' or value == 'West Virginia' or value == 'North Carolina' or value == 'South Carolina' or value == 'Georgia' or value == 'Florida' or value == 'Kentucky' or value == 'Tennessee' or value == 'Mississippi' or value == 'Alabama' or value == 'Oklahoma' or value == 'Texas' or value == 'Arkansas' or value == 'Louisiana':\n",
    "        Region.append('South')\n",
    "    else:\n",
    "        Region.append('West')\n"
   ]
  },
  {
   "cell_type": "code",
   "execution_count": 9,
   "id": "8682710d",
   "metadata": {},
   "outputs": [],
   "source": [
    "#assigning region list to column named 'region'\n",
    "ords_prods_custs['region'] = Region"
   ]
  },
  {
   "cell_type": "code",
   "execution_count": 11,
   "id": "28eb53e1",
   "metadata": {},
   "outputs": [
    {
     "data": {
      "text/html": [
       "<div>\n",
       "<style scoped>\n",
       "    .dataframe tbody tr th:only-of-type {\n",
       "        vertical-align: middle;\n",
       "    }\n",
       "\n",
       "    .dataframe tbody tr th {\n",
       "        vertical-align: top;\n",
       "    }\n",
       "\n",
       "    .dataframe thead th {\n",
       "        text-align: right;\n",
       "    }\n",
       "</style>\n",
       "<table border=\"1\" class=\"dataframe\">\n",
       "  <thead>\n",
       "    <tr style=\"text-align: right;\">\n",
       "      <th></th>\n",
       "      <th>order_id</th>\n",
       "      <th>user_id</th>\n",
       "      <th>order_number</th>\n",
       "      <th>orders_days_of_week</th>\n",
       "      <th>order_hour_of_day</th>\n",
       "      <th>days_since_prior_order</th>\n",
       "      <th>new_customer</th>\n",
       "      <th>product_id</th>\n",
       "      <th>add_to_cart_order</th>\n",
       "      <th>reordered</th>\n",
       "      <th>...</th>\n",
       "      <th>first_name</th>\n",
       "      <th>last_name</th>\n",
       "      <th>gender</th>\n",
       "      <th>state</th>\n",
       "      <th>age</th>\n",
       "      <th>date_joined</th>\n",
       "      <th>no_dependants</th>\n",
       "      <th>marital status</th>\n",
       "      <th>income</th>\n",
       "      <th>region</th>\n",
       "    </tr>\n",
       "  </thead>\n",
       "  <tbody>\n",
       "    <tr>\n",
       "      <th>0</th>\n",
       "      <td>2539329</td>\n",
       "      <td>1</td>\n",
       "      <td>1</td>\n",
       "      <td>2</td>\n",
       "      <td>8</td>\n",
       "      <td>NaN</td>\n",
       "      <td>False</td>\n",
       "      <td>196</td>\n",
       "      <td>1</td>\n",
       "      <td>0</td>\n",
       "      <td>...</td>\n",
       "      <td>Linda</td>\n",
       "      <td>Nguyen</td>\n",
       "      <td>Female</td>\n",
       "      <td>Alabama</td>\n",
       "      <td>31</td>\n",
       "      <td>2/17/2019</td>\n",
       "      <td>3</td>\n",
       "      <td>married</td>\n",
       "      <td>40423</td>\n",
       "      <td>South</td>\n",
       "    </tr>\n",
       "    <tr>\n",
       "      <th>1</th>\n",
       "      <td>2398795</td>\n",
       "      <td>1</td>\n",
       "      <td>2</td>\n",
       "      <td>3</td>\n",
       "      <td>7</td>\n",
       "      <td>15.0</td>\n",
       "      <td>True</td>\n",
       "      <td>196</td>\n",
       "      <td>1</td>\n",
       "      <td>1</td>\n",
       "      <td>...</td>\n",
       "      <td>Linda</td>\n",
       "      <td>Nguyen</td>\n",
       "      <td>Female</td>\n",
       "      <td>Alabama</td>\n",
       "      <td>31</td>\n",
       "      <td>2/17/2019</td>\n",
       "      <td>3</td>\n",
       "      <td>married</td>\n",
       "      <td>40423</td>\n",
       "      <td>South</td>\n",
       "    </tr>\n",
       "    <tr>\n",
       "      <th>2</th>\n",
       "      <td>473747</td>\n",
       "      <td>1</td>\n",
       "      <td>3</td>\n",
       "      <td>3</td>\n",
       "      <td>12</td>\n",
       "      <td>21.0</td>\n",
       "      <td>True</td>\n",
       "      <td>196</td>\n",
       "      <td>1</td>\n",
       "      <td>1</td>\n",
       "      <td>...</td>\n",
       "      <td>Linda</td>\n",
       "      <td>Nguyen</td>\n",
       "      <td>Female</td>\n",
       "      <td>Alabama</td>\n",
       "      <td>31</td>\n",
       "      <td>2/17/2019</td>\n",
       "      <td>3</td>\n",
       "      <td>married</td>\n",
       "      <td>40423</td>\n",
       "      <td>South</td>\n",
       "    </tr>\n",
       "    <tr>\n",
       "      <th>3</th>\n",
       "      <td>2254736</td>\n",
       "      <td>1</td>\n",
       "      <td>4</td>\n",
       "      <td>4</td>\n",
       "      <td>7</td>\n",
       "      <td>29.0</td>\n",
       "      <td>True</td>\n",
       "      <td>196</td>\n",
       "      <td>1</td>\n",
       "      <td>1</td>\n",
       "      <td>...</td>\n",
       "      <td>Linda</td>\n",
       "      <td>Nguyen</td>\n",
       "      <td>Female</td>\n",
       "      <td>Alabama</td>\n",
       "      <td>31</td>\n",
       "      <td>2/17/2019</td>\n",
       "      <td>3</td>\n",
       "      <td>married</td>\n",
       "      <td>40423</td>\n",
       "      <td>South</td>\n",
       "    </tr>\n",
       "    <tr>\n",
       "      <th>4</th>\n",
       "      <td>431534</td>\n",
       "      <td>1</td>\n",
       "      <td>5</td>\n",
       "      <td>4</td>\n",
       "      <td>15</td>\n",
       "      <td>28.0</td>\n",
       "      <td>True</td>\n",
       "      <td>196</td>\n",
       "      <td>1</td>\n",
       "      <td>1</td>\n",
       "      <td>...</td>\n",
       "      <td>Linda</td>\n",
       "      <td>Nguyen</td>\n",
       "      <td>Female</td>\n",
       "      <td>Alabama</td>\n",
       "      <td>31</td>\n",
       "      <td>2/17/2019</td>\n",
       "      <td>3</td>\n",
       "      <td>married</td>\n",
       "      <td>40423</td>\n",
       "      <td>South</td>\n",
       "    </tr>\n",
       "  </tbody>\n",
       "</table>\n",
       "<p>5 rows × 35 columns</p>\n",
       "</div>"
      ],
      "text/plain": [
       "   order_id  user_id  order_number  orders_days_of_week  order_hour_of_day  \\\n",
       "0   2539329        1             1                    2                  8   \n",
       "1   2398795        1             2                    3                  7   \n",
       "2    473747        1             3                    3                 12   \n",
       "3   2254736        1             4                    4                  7   \n",
       "4    431534        1             5                    4                 15   \n",
       "\n",
       "   days_since_prior_order  new_customer  product_id  add_to_cart_order  \\\n",
       "0                     NaN         False         196                  1   \n",
       "1                    15.0          True         196                  1   \n",
       "2                    21.0          True         196                  1   \n",
       "3                    29.0          True         196                  1   \n",
       "4                    28.0          True         196                  1   \n",
       "\n",
       "   reordered  ... first_name  last_name  gender    state age date_joined  \\\n",
       "0          0  ...      Linda     Nguyen  Female  Alabama  31   2/17/2019   \n",
       "1          1  ...      Linda     Nguyen  Female  Alabama  31   2/17/2019   \n",
       "2          1  ...      Linda     Nguyen  Female  Alabama  31   2/17/2019   \n",
       "3          1  ...      Linda     Nguyen  Female  Alabama  31   2/17/2019   \n",
       "4          1  ...      Linda     Nguyen  Female  Alabama  31   2/17/2019   \n",
       "\n",
       "  no_dependants marital status income  region  \n",
       "0             3        married  40423   South  \n",
       "1             3        married  40423   South  \n",
       "2             3        married  40423   South  \n",
       "3             3        married  40423   South  \n",
       "4             3        married  40423   South  \n",
       "\n",
       "[5 rows x 35 columns]"
      ]
     },
     "execution_count": 11,
     "metadata": {},
     "output_type": "execute_result"
    }
   ],
   "source": [
    "ords_prods_custs.head()"
   ]
  },
  {
   "cell_type": "code",
   "execution_count": 15,
   "id": "3c9d4d77",
   "metadata": {
    "scrolled": true
   },
   "outputs": [
    {
     "data": {
      "text/html": [
       "<div>\n",
       "<style scoped>\n",
       "    .dataframe tbody tr th:only-of-type {\n",
       "        vertical-align: middle;\n",
       "    }\n",
       "\n",
       "    .dataframe tbody tr th {\n",
       "        vertical-align: top;\n",
       "    }\n",
       "\n",
       "    .dataframe thead th {\n",
       "        text-align: right;\n",
       "    }\n",
       "</style>\n",
       "<table border=\"1\" class=\"dataframe\">\n",
       "  <thead>\n",
       "    <tr style=\"text-align: right;\">\n",
       "      <th>region</th>\n",
       "      <th>Midwest</th>\n",
       "      <th>North East</th>\n",
       "      <th>South</th>\n",
       "      <th>West</th>\n",
       "    </tr>\n",
       "    <tr>\n",
       "      <th>spender_flag</th>\n",
       "      <th></th>\n",
       "      <th></th>\n",
       "      <th></th>\n",
       "      <th></th>\n",
       "    </tr>\n",
       "  </thead>\n",
       "  <tbody>\n",
       "    <tr>\n",
       "      <th>High spender</th>\n",
       "      <td>155975</td>\n",
       "      <td>108225</td>\n",
       "      <td>209691</td>\n",
       "      <td>160354</td>\n",
       "    </tr>\n",
       "    <tr>\n",
       "      <th>Low_spender</th>\n",
       "      <td>7441350</td>\n",
       "      <td>5614511</td>\n",
       "      <td>10582194</td>\n",
       "      <td>8132559</td>\n",
       "    </tr>\n",
       "  </tbody>\n",
       "</table>\n",
       "</div>"
      ],
      "text/plain": [
       "region        Midwest  North East     South     West\n",
       "spender_flag                                        \n",
       "High spender   155975      108225    209691   160354\n",
       "Low_spender   7441350     5614511  10582194  8132559"
      ]
     },
     "execution_count": 15,
     "metadata": {},
     "output_type": "execute_result"
    }
   ],
   "source": [
    "#crosstab 'spender_flag' column and 'region' column\n",
    "pd.crosstab(ords_prods_custs['spender_flag'], ords_prods_custs['region'])"
   ]
  },
  {
   "cell_type": "markdown",
   "id": "9f9355f0",
   "metadata": {},
   "source": [
    "# Creating exclusion flag for low-activity customers"
   ]
  },
  {
   "cell_type": "markdown",
   "id": "6dc6014d",
   "metadata": {},
   "source": [
    "The Instacart CFO isn't interested in customers who dont' generate much revenue for the app. Create an exclusion flag for low-activity customers (customers with less than 5 orders) and exclude them from the data. Make sure you export this sample."
   ]
  },
  {
   "cell_type": "code",
   "execution_count": 16,
   "id": "23bd78a5",
   "metadata": {},
   "outputs": [],
   "source": [
    "#create column that shows the total number of orders by user\n",
    "ords_prods_custs['max_order'] = ords_prods_custs.groupby(['user_id']) ['order_number'].transform(np.sum)"
   ]
  },
  {
   "cell_type": "code",
   "execution_count": 17,
   "id": "70b4102f",
   "metadata": {},
   "outputs": [],
   "source": [
    "#create flag depending how many orders the customers made\n",
    "ords_prods_custs.loc[ords_prods_custs['max_order'] < 5, 'activity_flag'] = 'low_activity_customer'\n",
    "ords_prods_custs.loc[ords_prods_custs['max_order'] >= 5, 'activity_flag'] = 'normal_activity_customer'"
   ]
  },
  {
   "cell_type": "code",
   "execution_count": 18,
   "id": "e7e5ae40",
   "metadata": {},
   "outputs": [],
   "source": [
    "#create subset for customers with low activity\n",
    "low_activity_custs = ords_prods_custs[ords_prods_custs['activity_flag'] == 'low_activity_customer']"
   ]
  },
  {
   "cell_type": "code",
   "execution_count": 19,
   "id": "860f28ff",
   "metadata": {},
   "outputs": [],
   "source": [
    "#export data with that subset\n",
    "low_activity_custs.to_pickle(os.path.join(path, '02 Data', 'Prepared Data', 'low_activity_customers.pkl'))"
   ]
  },
  {
   "cell_type": "code",
   "execution_count": 20,
   "id": "dad88456",
   "metadata": {},
   "outputs": [],
   "source": [
    "#create subset for customers with high activity\n",
    "ords_prods_custs_new = ords_prods_custs[ords_prods_custs['activity_flag'] == 'normal_activity_customer']"
   ]
  },
  {
   "cell_type": "markdown",
   "id": "af980bc7",
   "metadata": {},
   "source": [
    "# Create profiling variables based on factors such as age and income. "
   ]
  },
  {
   "cell_type": "markdown",
   "id": "6de25ebc",
   "metadata": {},
   "source": [
    "Create a profiling variable based on age, income, certain goods in the \"department_id\" column, and number of dependents. You might also use the \"orders_day_of_the_week\" and \"order_hour_of_day\" columns if you can think of a way they would impact customer profiles."
   ]
  },
  {
   "cell_type": "code",
   "execution_count": 6,
   "id": "5971741f",
   "metadata": {},
   "outputs": [],
   "source": [
    "#create column called 'age_group' and categorize users based on their age\n",
    "ords_prods_custs_new.loc[ords_prods_custs_new['age'] <= 35, 'age_group'] = 'Young adult'"
   ]
  },
  {
   "cell_type": "code",
   "execution_count": 7,
   "id": "838618d7",
   "metadata": {},
   "outputs": [],
   "source": [
    "ords_prods_custs_new.loc[ords_prods_custs_new['age'] >35, 'age_group'] = 'Middle-aged adult'"
   ]
  },
  {
   "cell_type": "code",
   "execution_count": 8,
   "id": "26cab45e",
   "metadata": {},
   "outputs": [],
   "source": [
    "ords_prods_custs_new.loc[ords_prods_custs_new['age'] >= 60, 'age_group'] = 'Old adult'"
   ]
  },
  {
   "cell_type": "code",
   "execution_count": 9,
   "id": "024b41b6",
   "metadata": {},
   "outputs": [
    {
     "data": {
      "text/html": [
       "<div>\n",
       "<style scoped>\n",
       "    .dataframe tbody tr th:only-of-type {\n",
       "        vertical-align: middle;\n",
       "    }\n",
       "\n",
       "    .dataframe tbody tr th {\n",
       "        vertical-align: top;\n",
       "    }\n",
       "\n",
       "    .dataframe thead tr th {\n",
       "        text-align: left;\n",
       "    }\n",
       "\n",
       "    .dataframe thead tr:last-of-type th {\n",
       "        text-align: right;\n",
       "    }\n",
       "</style>\n",
       "<table border=\"1\" class=\"dataframe\">\n",
       "  <thead>\n",
       "    <tr>\n",
       "      <th></th>\n",
       "      <th colspan=\"3\" halign=\"left\">days_since_prior_order</th>\n",
       "    </tr>\n",
       "    <tr>\n",
       "      <th></th>\n",
       "      <th>mean</th>\n",
       "      <th>min</th>\n",
       "      <th>max</th>\n",
       "    </tr>\n",
       "    <tr>\n",
       "      <th>age_group</th>\n",
       "      <th></th>\n",
       "      <th></th>\n",
       "      <th></th>\n",
       "    </tr>\n",
       "  </thead>\n",
       "  <tbody>\n",
       "    <tr>\n",
       "      <th>Middle-aged adult</th>\n",
       "      <td>11.098956</td>\n",
       "      <td>0.0</td>\n",
       "      <td>30.0</td>\n",
       "    </tr>\n",
       "    <tr>\n",
       "      <th>Old adult</th>\n",
       "      <td>11.092551</td>\n",
       "      <td>0.0</td>\n",
       "      <td>30.0</td>\n",
       "    </tr>\n",
       "    <tr>\n",
       "      <th>Young adult</th>\n",
       "      <td>11.124858</td>\n",
       "      <td>0.0</td>\n",
       "      <td>30.0</td>\n",
       "    </tr>\n",
       "  </tbody>\n",
       "</table>\n",
       "</div>"
      ],
      "text/plain": [
       "                  days_since_prior_order           \n",
       "                                    mean  min   max\n",
       "age_group                                          \n",
       "Middle-aged adult              11.098956  0.0  30.0\n",
       "Old adult                      11.092551  0.0  30.0\n",
       "Young adult                    11.124858  0.0  30.0"
      ]
     },
     "execution_count": 9,
     "metadata": {},
     "output_type": "execute_result"
    }
   ],
   "source": [
    "#aggregate for age group usage frequency\n",
    "ords_prods_custs_new.groupby('age_group').agg({'days_since_prior_order':['mean', 'min', 'max']})"
   ]
  },
  {
   "cell_type": "code",
   "execution_count": 10,
   "id": "8c93e724",
   "metadata": {},
   "outputs": [
    {
     "data": {
      "text/html": [
       "<div>\n",
       "<style scoped>\n",
       "    .dataframe tbody tr th:only-of-type {\n",
       "        vertical-align: middle;\n",
       "    }\n",
       "\n",
       "    .dataframe tbody tr th {\n",
       "        vertical-align: top;\n",
       "    }\n",
       "\n",
       "    .dataframe thead tr th {\n",
       "        text-align: left;\n",
       "    }\n",
       "\n",
       "    .dataframe thead tr:last-of-type th {\n",
       "        text-align: right;\n",
       "    }\n",
       "</style>\n",
       "<table border=\"1\" class=\"dataframe\">\n",
       "  <thead>\n",
       "    <tr>\n",
       "      <th></th>\n",
       "      <th colspan=\"3\" halign=\"left\">prices</th>\n",
       "    </tr>\n",
       "    <tr>\n",
       "      <th></th>\n",
       "      <th>mean</th>\n",
       "      <th>min</th>\n",
       "      <th>max</th>\n",
       "    </tr>\n",
       "    <tr>\n",
       "      <th>age_group</th>\n",
       "      <th></th>\n",
       "      <th></th>\n",
       "      <th></th>\n",
       "    </tr>\n",
       "  </thead>\n",
       "  <tbody>\n",
       "    <tr>\n",
       "      <th>Middle-aged adult</th>\n",
       "      <td>12.068365</td>\n",
       "      <td>1.0</td>\n",
       "      <td>99999.0</td>\n",
       "    </tr>\n",
       "    <tr>\n",
       "      <th>Old adult</th>\n",
       "      <td>11.763337</td>\n",
       "      <td>1.0</td>\n",
       "      <td>99999.0</td>\n",
       "    </tr>\n",
       "    <tr>\n",
       "      <th>Young adult</th>\n",
       "      <td>12.125184</td>\n",
       "      <td>1.0</td>\n",
       "      <td>99999.0</td>\n",
       "    </tr>\n",
       "  </tbody>\n",
       "</table>\n",
       "</div>"
      ],
      "text/plain": [
       "                      prices              \n",
       "                        mean  min      max\n",
       "age_group                                 \n",
       "Middle-aged adult  12.068365  1.0  99999.0\n",
       "Old adult          11.763337  1.0  99999.0\n",
       "Young adult        12.125184  1.0  99999.0"
      ]
     },
     "execution_count": 10,
     "metadata": {},
     "output_type": "execute_result"
    }
   ],
   "source": [
    "#aggregate for age group expenditure\n",
    "ords_prods_custs_new.groupby('age_group').agg({'prices':['mean', 'min', 'max']})"
   ]
  },
  {
   "cell_type": "code",
   "execution_count": 17,
   "id": "1c3e5930",
   "metadata": {},
   "outputs": [],
   "source": [
    "#create column 'income_group' and categorize users based on their income\n",
    "ords_prods_custs_new.loc[ords_prods_custs_new['income'] <= 100000, 'income_group'] = 'low income'"
   ]
  },
  {
   "cell_type": "code",
   "execution_count": 14,
   "id": "6df74d0c",
   "metadata": {},
   "outputs": [],
   "source": [
    "ords_prods_custs_new.loc[ords_prods_custs_new['income'] <= 400000, 'income_group'] = 'middle income'"
   ]
  },
  {
   "cell_type": "code",
   "execution_count": 15,
   "id": "d5aab5ba",
   "metadata": {},
   "outputs": [],
   "source": [
    "ords_prods_custs_new.loc[ords_prods_custs_new['income'] > 400000, 'income_group'] = 'high income'"
   ]
  },
  {
   "cell_type": "code",
   "execution_count": 18,
   "id": "a8c506ae",
   "metadata": {},
   "outputs": [
    {
     "data": {
      "text/plain": [
       "low income       17590655\n",
       "middle income    14766509\n",
       "high income         47692\n",
       "Name: income_group, dtype: int64"
      ]
     },
     "execution_count": 18,
     "metadata": {},
     "output_type": "execute_result"
    }
   ],
   "source": [
    "ords_prods_custs_new['income_group'].value_counts (dropna = False)"
   ]
  },
  {
   "cell_type": "code",
   "execution_count": 19,
   "id": "55c1a695",
   "metadata": {},
   "outputs": [
    {
     "data": {
      "text/html": [
       "<div>\n",
       "<style scoped>\n",
       "    .dataframe tbody tr th:only-of-type {\n",
       "        vertical-align: middle;\n",
       "    }\n",
       "\n",
       "    .dataframe tbody tr th {\n",
       "        vertical-align: top;\n",
       "    }\n",
       "\n",
       "    .dataframe thead tr th {\n",
       "        text-align: left;\n",
       "    }\n",
       "\n",
       "    .dataframe thead tr:last-of-type th {\n",
       "        text-align: right;\n",
       "    }\n",
       "</style>\n",
       "<table border=\"1\" class=\"dataframe\">\n",
       "  <thead>\n",
       "    <tr>\n",
       "      <th></th>\n",
       "      <th colspan=\"3\" halign=\"left\">days_since_prior_order</th>\n",
       "    </tr>\n",
       "    <tr>\n",
       "      <th></th>\n",
       "      <th>mean</th>\n",
       "      <th>min</th>\n",
       "      <th>max</th>\n",
       "    </tr>\n",
       "    <tr>\n",
       "      <th>income_group</th>\n",
       "      <th></th>\n",
       "      <th></th>\n",
       "      <th></th>\n",
       "    </tr>\n",
       "  </thead>\n",
       "  <tbody>\n",
       "    <tr>\n",
       "      <th>high income</th>\n",
       "      <td>10.424753</td>\n",
       "      <td>0.0</td>\n",
       "      <td>30.0</td>\n",
       "    </tr>\n",
       "    <tr>\n",
       "      <th>low income</th>\n",
       "      <td>11.158293</td>\n",
       "      <td>0.0</td>\n",
       "      <td>30.0</td>\n",
       "    </tr>\n",
       "    <tr>\n",
       "      <th>middle income</th>\n",
       "      <td>11.041878</td>\n",
       "      <td>0.0</td>\n",
       "      <td>30.0</td>\n",
       "    </tr>\n",
       "  </tbody>\n",
       "</table>\n",
       "</div>"
      ],
      "text/plain": [
       "              days_since_prior_order           \n",
       "                                mean  min   max\n",
       "income_group                                   \n",
       "high income                10.424753  0.0  30.0\n",
       "low income                 11.158293  0.0  30.0\n",
       "middle income              11.041878  0.0  30.0"
      ]
     },
     "execution_count": 19,
     "metadata": {},
     "output_type": "execute_result"
    }
   ],
   "source": [
    "#aggregate for income group usage frequency\n",
    "ords_prods_custs_new.groupby('income_group').agg({'days_since_prior_order' : ['mean', 'min', 'max']})"
   ]
  },
  {
   "cell_type": "code",
   "execution_count": 20,
   "id": "cbd91633",
   "metadata": {},
   "outputs": [
    {
     "data": {
      "text/html": [
       "<div>\n",
       "<style scoped>\n",
       "    .dataframe tbody tr th:only-of-type {\n",
       "        vertical-align: middle;\n",
       "    }\n",
       "\n",
       "    .dataframe tbody tr th {\n",
       "        vertical-align: top;\n",
       "    }\n",
       "\n",
       "    .dataframe thead tr th {\n",
       "        text-align: left;\n",
       "    }\n",
       "\n",
       "    .dataframe thead tr:last-of-type th {\n",
       "        text-align: right;\n",
       "    }\n",
       "</style>\n",
       "<table border=\"1\" class=\"dataframe\">\n",
       "  <thead>\n",
       "    <tr>\n",
       "      <th></th>\n",
       "      <th colspan=\"3\" halign=\"left\">prices</th>\n",
       "    </tr>\n",
       "    <tr>\n",
       "      <th></th>\n",
       "      <th>mean</th>\n",
       "      <th>min</th>\n",
       "      <th>max</th>\n",
       "    </tr>\n",
       "    <tr>\n",
       "      <th>income_group</th>\n",
       "      <th></th>\n",
       "      <th></th>\n",
       "      <th></th>\n",
       "    </tr>\n",
       "  </thead>\n",
       "  <tbody>\n",
       "    <tr>\n",
       "      <th>high income</th>\n",
       "      <td>227.570947</td>\n",
       "      <td>1.0</td>\n",
       "      <td>99999.0</td>\n",
       "    </tr>\n",
       "    <tr>\n",
       "      <th>low income</th>\n",
       "      <td>8.106621</td>\n",
       "      <td>1.0</td>\n",
       "      <td>99999.0</td>\n",
       "    </tr>\n",
       "    <tr>\n",
       "      <th>middle income</th>\n",
       "      <td>15.898368</td>\n",
       "      <td>1.0</td>\n",
       "      <td>99999.0</td>\n",
       "    </tr>\n",
       "  </tbody>\n",
       "</table>\n",
       "</div>"
      ],
      "text/plain": [
       "                   prices              \n",
       "                     mean  min      max\n",
       "income_group                           \n",
       "high income    227.570947  1.0  99999.0\n",
       "low income       8.106621  1.0  99999.0\n",
       "middle income   15.898368  1.0  99999.0"
      ]
     },
     "execution_count": 20,
     "metadata": {},
     "output_type": "execute_result"
    }
   ],
   "source": [
    "#aggregate for income group price frequency\n",
    "ords_prods_custs_new.groupby('income_group').agg({'prices' : ['mean', 'min', 'max']})"
   ]
  },
  {
   "cell_type": "code",
   "execution_count": 21,
   "id": "c937623d",
   "metadata": {},
   "outputs": [
    {
     "data": {
      "text/html": [
       "<div>\n",
       "<style scoped>\n",
       "    .dataframe tbody tr th:only-of-type {\n",
       "        vertical-align: middle;\n",
       "    }\n",
       "\n",
       "    .dataframe tbody tr th {\n",
       "        vertical-align: top;\n",
       "    }\n",
       "\n",
       "    .dataframe thead th {\n",
       "        text-align: right;\n",
       "    }\n",
       "</style>\n",
       "<table border=\"1\" class=\"dataframe\">\n",
       "  <thead>\n",
       "    <tr style=\"text-align: right;\">\n",
       "      <th></th>\n",
       "      <th>order_id</th>\n",
       "      <th>user_id</th>\n",
       "      <th>order_number</th>\n",
       "      <th>orders_days_of_week</th>\n",
       "      <th>order_hour_of_day</th>\n",
       "      <th>days_since_prior_order</th>\n",
       "      <th>new_customer</th>\n",
       "      <th>product_id</th>\n",
       "      <th>add_to_cart_order</th>\n",
       "      <th>reordered</th>\n",
       "      <th>...</th>\n",
       "      <th>state</th>\n",
       "      <th>age</th>\n",
       "      <th>date_joined</th>\n",
       "      <th>no_dependants</th>\n",
       "      <th>marital status</th>\n",
       "      <th>income</th>\n",
       "      <th>region</th>\n",
       "      <th>activity_flag</th>\n",
       "      <th>age_group</th>\n",
       "      <th>income_group</th>\n",
       "    </tr>\n",
       "  </thead>\n",
       "  <tbody>\n",
       "    <tr>\n",
       "      <th>0</th>\n",
       "      <td>2539329</td>\n",
       "      <td>1</td>\n",
       "      <td>1</td>\n",
       "      <td>2</td>\n",
       "      <td>8</td>\n",
       "      <td>NaN</td>\n",
       "      <td>False</td>\n",
       "      <td>196</td>\n",
       "      <td>1</td>\n",
       "      <td>0</td>\n",
       "      <td>...</td>\n",
       "      <td>Alabama</td>\n",
       "      <td>31</td>\n",
       "      <td>2/17/2019</td>\n",
       "      <td>3</td>\n",
       "      <td>married</td>\n",
       "      <td>40423</td>\n",
       "      <td>South</td>\n",
       "      <td>normal_activity_customer</td>\n",
       "      <td>Young adult</td>\n",
       "      <td>low income</td>\n",
       "    </tr>\n",
       "    <tr>\n",
       "      <th>1</th>\n",
       "      <td>2398795</td>\n",
       "      <td>1</td>\n",
       "      <td>2</td>\n",
       "      <td>3</td>\n",
       "      <td>7</td>\n",
       "      <td>15.0</td>\n",
       "      <td>True</td>\n",
       "      <td>196</td>\n",
       "      <td>1</td>\n",
       "      <td>1</td>\n",
       "      <td>...</td>\n",
       "      <td>Alabama</td>\n",
       "      <td>31</td>\n",
       "      <td>2/17/2019</td>\n",
       "      <td>3</td>\n",
       "      <td>married</td>\n",
       "      <td>40423</td>\n",
       "      <td>South</td>\n",
       "      <td>normal_activity_customer</td>\n",
       "      <td>Young adult</td>\n",
       "      <td>low income</td>\n",
       "    </tr>\n",
       "    <tr>\n",
       "      <th>2</th>\n",
       "      <td>473747</td>\n",
       "      <td>1</td>\n",
       "      <td>3</td>\n",
       "      <td>3</td>\n",
       "      <td>12</td>\n",
       "      <td>21.0</td>\n",
       "      <td>True</td>\n",
       "      <td>196</td>\n",
       "      <td>1</td>\n",
       "      <td>1</td>\n",
       "      <td>...</td>\n",
       "      <td>Alabama</td>\n",
       "      <td>31</td>\n",
       "      <td>2/17/2019</td>\n",
       "      <td>3</td>\n",
       "      <td>married</td>\n",
       "      <td>40423</td>\n",
       "      <td>South</td>\n",
       "      <td>normal_activity_customer</td>\n",
       "      <td>Young adult</td>\n",
       "      <td>low income</td>\n",
       "    </tr>\n",
       "    <tr>\n",
       "      <th>3</th>\n",
       "      <td>2254736</td>\n",
       "      <td>1</td>\n",
       "      <td>4</td>\n",
       "      <td>4</td>\n",
       "      <td>7</td>\n",
       "      <td>29.0</td>\n",
       "      <td>True</td>\n",
       "      <td>196</td>\n",
       "      <td>1</td>\n",
       "      <td>1</td>\n",
       "      <td>...</td>\n",
       "      <td>Alabama</td>\n",
       "      <td>31</td>\n",
       "      <td>2/17/2019</td>\n",
       "      <td>3</td>\n",
       "      <td>married</td>\n",
       "      <td>40423</td>\n",
       "      <td>South</td>\n",
       "      <td>normal_activity_customer</td>\n",
       "      <td>Young adult</td>\n",
       "      <td>low income</td>\n",
       "    </tr>\n",
       "    <tr>\n",
       "      <th>4</th>\n",
       "      <td>431534</td>\n",
       "      <td>1</td>\n",
       "      <td>5</td>\n",
       "      <td>4</td>\n",
       "      <td>15</td>\n",
       "      <td>28.0</td>\n",
       "      <td>True</td>\n",
       "      <td>196</td>\n",
       "      <td>1</td>\n",
       "      <td>1</td>\n",
       "      <td>...</td>\n",
       "      <td>Alabama</td>\n",
       "      <td>31</td>\n",
       "      <td>2/17/2019</td>\n",
       "      <td>3</td>\n",
       "      <td>married</td>\n",
       "      <td>40423</td>\n",
       "      <td>South</td>\n",
       "      <td>normal_activity_customer</td>\n",
       "      <td>Young adult</td>\n",
       "      <td>low income</td>\n",
       "    </tr>\n",
       "  </tbody>\n",
       "</table>\n",
       "<p>5 rows × 38 columns</p>\n",
       "</div>"
      ],
      "text/plain": [
       "   order_id  user_id  order_number  orders_days_of_week  order_hour_of_day  \\\n",
       "0   2539329        1             1                    2                  8   \n",
       "1   2398795        1             2                    3                  7   \n",
       "2    473747        1             3                    3                 12   \n",
       "3   2254736        1             4                    4                  7   \n",
       "4    431534        1             5                    4                 15   \n",
       "\n",
       "   days_since_prior_order  new_customer  product_id  add_to_cart_order  \\\n",
       "0                     NaN         False         196                  1   \n",
       "1                    15.0          True         196                  1   \n",
       "2                    21.0          True         196                  1   \n",
       "3                    29.0          True         196                  1   \n",
       "4                    28.0          True         196                  1   \n",
       "\n",
       "   reordered  ...    state  age  date_joined  no_dependants marital status  \\\n",
       "0          0  ...  Alabama   31    2/17/2019              3        married   \n",
       "1          1  ...  Alabama   31    2/17/2019              3        married   \n",
       "2          1  ...  Alabama   31    2/17/2019              3        married   \n",
       "3          1  ...  Alabama   31    2/17/2019              3        married   \n",
       "4          1  ...  Alabama   31    2/17/2019              3        married   \n",
       "\n",
       "  income region             activity_flag    age_group  income_group  \n",
       "0  40423  South  normal_activity_customer  Young adult    low income  \n",
       "1  40423  South  normal_activity_customer  Young adult    low income  \n",
       "2  40423  South  normal_activity_customer  Young adult    low income  \n",
       "3  40423  South  normal_activity_customer  Young adult    low income  \n",
       "4  40423  South  normal_activity_customer  Young adult    low income  \n",
       "\n",
       "[5 rows x 38 columns]"
      ]
     },
     "execution_count": 21,
     "metadata": {},
     "output_type": "execute_result"
    }
   ],
   "source": [
    "ords_prods_custs_new.head()"
   ]
  },
  {
   "cell_type": "code",
   "execution_count": 33,
   "id": "a462cd8c",
   "metadata": {},
   "outputs": [],
   "source": [
    "#create column called 'baby_status' and categorize users based on whether they have purchased items on baby department\n",
    "ords_prods_custs_new.loc[ords_prods_custs_new['department_id'] == 18, 'baby_status'] = 'yes'"
   ]
  },
  {
   "cell_type": "code",
   "execution_count": 34,
   "id": "694bd274",
   "metadata": {},
   "outputs": [],
   "source": [
    "ords_prods_custs_new.loc[(ords_prods_custs_new['department_id'] != 18), 'baby_status'] = 'no'"
   ]
  },
  {
   "cell_type": "code",
   "execution_count": 35,
   "id": "5ccf70ce",
   "metadata": {},
   "outputs": [],
   "source": [
    "ords_prods_custs_new['baby_status'] = ords_prods_custs_new.groupby(['user_id']) ['baby_status'].transform(np.max)"
   ]
  },
  {
   "cell_type": "code",
   "execution_count": 37,
   "id": "744294a8",
   "metadata": {},
   "outputs": [
    {
     "data": {
      "text/plain": [
       "no     22431547\n",
       "yes     9973309\n",
       "Name: baby_status, dtype: int64"
      ]
     },
     "execution_count": 37,
     "metadata": {},
     "output_type": "execute_result"
    }
   ],
   "source": [
    "ords_prods_custs_new['baby_status'].value_counts(dropna = False)"
   ]
  },
  {
   "cell_type": "code",
   "execution_count": 38,
   "id": "6935f443",
   "metadata": {},
   "outputs": [
    {
     "data": {
      "text/html": [
       "<div>\n",
       "<style scoped>\n",
       "    .dataframe tbody tr th:only-of-type {\n",
       "        vertical-align: middle;\n",
       "    }\n",
       "\n",
       "    .dataframe tbody tr th {\n",
       "        vertical-align: top;\n",
       "    }\n",
       "\n",
       "    .dataframe thead tr th {\n",
       "        text-align: left;\n",
       "    }\n",
       "\n",
       "    .dataframe thead tr:last-of-type th {\n",
       "        text-align: right;\n",
       "    }\n",
       "</style>\n",
       "<table border=\"1\" class=\"dataframe\">\n",
       "  <thead>\n",
       "    <tr>\n",
       "      <th></th>\n",
       "      <th colspan=\"3\" halign=\"left\">days_since_prior_order</th>\n",
       "    </tr>\n",
       "    <tr>\n",
       "      <th></th>\n",
       "      <th>mean</th>\n",
       "      <th>min</th>\n",
       "      <th>max</th>\n",
       "    </tr>\n",
       "    <tr>\n",
       "      <th>baby_status</th>\n",
       "      <th></th>\n",
       "      <th></th>\n",
       "      <th></th>\n",
       "    </tr>\n",
       "  </thead>\n",
       "  <tbody>\n",
       "    <tr>\n",
       "      <th>no</th>\n",
       "      <td>11.848431</td>\n",
       "      <td>0.0</td>\n",
       "      <td>30.0</td>\n",
       "    </tr>\n",
       "    <tr>\n",
       "      <th>yes</th>\n",
       "      <td>9.479345</td>\n",
       "      <td>0.0</td>\n",
       "      <td>30.0</td>\n",
       "    </tr>\n",
       "  </tbody>\n",
       "</table>\n",
       "</div>"
      ],
      "text/plain": [
       "            days_since_prior_order           \n",
       "                              mean  min   max\n",
       "baby_status                                  \n",
       "no                       11.848431  0.0  30.0\n",
       "yes                       9.479345  0.0  30.0"
      ]
     },
     "execution_count": 38,
     "metadata": {},
     "output_type": "execute_result"
    }
   ],
   "source": [
    "#aggregate for baby status usage frequency\n",
    "ords_prods_custs_new.groupby('baby_status').agg({'days_since_prior_order':['mean', 'min','max']})"
   ]
  },
  {
   "cell_type": "code",
   "execution_count": 39,
   "id": "f9008441",
   "metadata": {},
   "outputs": [
    {
     "data": {
      "text/html": [
       "<div>\n",
       "<style scoped>\n",
       "    .dataframe tbody tr th:only-of-type {\n",
       "        vertical-align: middle;\n",
       "    }\n",
       "\n",
       "    .dataframe tbody tr th {\n",
       "        vertical-align: top;\n",
       "    }\n",
       "\n",
       "    .dataframe thead tr th {\n",
       "        text-align: left;\n",
       "    }\n",
       "\n",
       "    .dataframe thead tr:last-of-type th {\n",
       "        text-align: right;\n",
       "    }\n",
       "</style>\n",
       "<table border=\"1\" class=\"dataframe\">\n",
       "  <thead>\n",
       "    <tr>\n",
       "      <th></th>\n",
       "      <th colspan=\"3\" halign=\"left\">prices</th>\n",
       "    </tr>\n",
       "    <tr>\n",
       "      <th></th>\n",
       "      <th>mean</th>\n",
       "      <th>min</th>\n",
       "      <th>max</th>\n",
       "    </tr>\n",
       "    <tr>\n",
       "      <th>baby_status</th>\n",
       "      <th></th>\n",
       "      <th></th>\n",
       "      <th></th>\n",
       "    </tr>\n",
       "  </thead>\n",
       "  <tbody>\n",
       "    <tr>\n",
       "      <th>no</th>\n",
       "      <td>12.515292</td>\n",
       "      <td>1.0</td>\n",
       "      <td>99999.0</td>\n",
       "    </tr>\n",
       "    <tr>\n",
       "      <th>yes</th>\n",
       "      <td>10.776779</td>\n",
       "      <td>1.0</td>\n",
       "      <td>99999.0</td>\n",
       "    </tr>\n",
       "  </tbody>\n",
       "</table>\n",
       "</div>"
      ],
      "text/plain": [
       "                prices              \n",
       "                  mean  min      max\n",
       "baby_status                         \n",
       "no           12.515292  1.0  99999.0\n",
       "yes          10.776779  1.0  99999.0"
      ]
     },
     "execution_count": 39,
     "metadata": {},
     "output_type": "execute_result"
    }
   ],
   "source": [
    "#aggregate for baby status expenditure\n",
    "ords_prods_custs_new.groupby('baby_status').agg({'prices':['mean', 'min','max']})"
   ]
  },
  {
   "cell_type": "code",
   "execution_count": 42,
   "id": "0e94ab99",
   "metadata": {},
   "outputs": [],
   "source": [
    "#create column called 'household_size' and categorize users based on their number of dependents\n",
    "ords_prods_custs_new.loc[ords_prods_custs_new['no_dependants'] == 0, 'household_size'] = 'single household'"
   ]
  },
  {
   "cell_type": "code",
   "execution_count": 43,
   "id": "bfedceb5",
   "metadata": {},
   "outputs": [],
   "source": [
    "ords_prods_custs_new.loc[(ords_prods_custs_new['no_dependants'] <= 2) & (ords_prods_custs_new['no_dependants'] > 1) , 'household_size'] = 'small household'"
   ]
  },
  {
   "cell_type": "code",
   "execution_count": 44,
   "id": "23c08d8d",
   "metadata": {},
   "outputs": [],
   "source": [
    "ords_prods_custs_new.loc[(ords_prods_custs_new['no_dependants'] <= 3) & (ords_prods_custs_new['no_dependants'] > 2) , 'household_size'] = 'large household'"
   ]
  },
  {
   "cell_type": "code",
   "execution_count": 45,
   "id": "292f08e1",
   "metadata": {},
   "outputs": [
    {
     "data": {
      "text/plain": [
       "large household     8135109\n",
       "single household    8097502\n",
       "small household     8091141\n",
       "NaN                 8081104\n",
       "Name: household_size, dtype: int64"
      ]
     },
     "execution_count": 45,
     "metadata": {},
     "output_type": "execute_result"
    }
   ],
   "source": [
    "ords_prods_custs_new['household_size'].value_counts(dropna = False)"
   ]
  },
  {
   "cell_type": "code",
   "execution_count": 46,
   "id": "20b5657b",
   "metadata": {},
   "outputs": [
    {
     "data": {
      "text/html": [
       "<div>\n",
       "<style scoped>\n",
       "    .dataframe tbody tr th:only-of-type {\n",
       "        vertical-align: middle;\n",
       "    }\n",
       "\n",
       "    .dataframe tbody tr th {\n",
       "        vertical-align: top;\n",
       "    }\n",
       "\n",
       "    .dataframe thead tr th {\n",
       "        text-align: left;\n",
       "    }\n",
       "\n",
       "    .dataframe thead tr:last-of-type th {\n",
       "        text-align: right;\n",
       "    }\n",
       "</style>\n",
       "<table border=\"1\" class=\"dataframe\">\n",
       "  <thead>\n",
       "    <tr>\n",
       "      <th></th>\n",
       "      <th colspan=\"3\" halign=\"left\">days_since_prior_order</th>\n",
       "    </tr>\n",
       "    <tr>\n",
       "      <th></th>\n",
       "      <th>mean</th>\n",
       "      <th>min</th>\n",
       "      <th>max</th>\n",
       "    </tr>\n",
       "    <tr>\n",
       "      <th>household_size</th>\n",
       "      <th></th>\n",
       "      <th></th>\n",
       "      <th></th>\n",
       "    </tr>\n",
       "  </thead>\n",
       "  <tbody>\n",
       "    <tr>\n",
       "      <th>large household</th>\n",
       "      <td>11.109714</td>\n",
       "      <td>0.0</td>\n",
       "      <td>30.0</td>\n",
       "    </tr>\n",
       "    <tr>\n",
       "      <th>single household</th>\n",
       "      <td>11.080806</td>\n",
       "      <td>0.0</td>\n",
       "      <td>30.0</td>\n",
       "    </tr>\n",
       "    <tr>\n",
       "      <th>small household</th>\n",
       "      <td>11.125754</td>\n",
       "      <td>0.0</td>\n",
       "      <td>30.0</td>\n",
       "    </tr>\n",
       "  </tbody>\n",
       "</table>\n",
       "</div>"
      ],
      "text/plain": [
       "                 days_since_prior_order           \n",
       "                                   mean  min   max\n",
       "household_size                                    \n",
       "large household               11.109714  0.0  30.0\n",
       "single household              11.080806  0.0  30.0\n",
       "small household               11.125754  0.0  30.0"
      ]
     },
     "execution_count": 46,
     "metadata": {},
     "output_type": "execute_result"
    }
   ],
   "source": [
    "#aggregate household size usage frequency\n",
    "ords_prods_custs_new.groupby('household_size').agg({'days_since_prior_order':['mean', 'min','max']})"
   ]
  },
  {
   "cell_type": "code",
   "execution_count": 47,
   "id": "5deb793d",
   "metadata": {},
   "outputs": [
    {
     "data": {
      "text/html": [
       "<div>\n",
       "<style scoped>\n",
       "    .dataframe tbody tr th:only-of-type {\n",
       "        vertical-align: middle;\n",
       "    }\n",
       "\n",
       "    .dataframe tbody tr th {\n",
       "        vertical-align: top;\n",
       "    }\n",
       "\n",
       "    .dataframe thead tr th {\n",
       "        text-align: left;\n",
       "    }\n",
       "\n",
       "    .dataframe thead tr:last-of-type th {\n",
       "        text-align: right;\n",
       "    }\n",
       "</style>\n",
       "<table border=\"1\" class=\"dataframe\">\n",
       "  <thead>\n",
       "    <tr>\n",
       "      <th></th>\n",
       "      <th colspan=\"3\" halign=\"left\">prices</th>\n",
       "    </tr>\n",
       "    <tr>\n",
       "      <th></th>\n",
       "      <th>mean</th>\n",
       "      <th>min</th>\n",
       "      <th>max</th>\n",
       "    </tr>\n",
       "    <tr>\n",
       "      <th>household_size</th>\n",
       "      <th></th>\n",
       "      <th></th>\n",
       "      <th></th>\n",
       "    </tr>\n",
       "  </thead>\n",
       "  <tbody>\n",
       "    <tr>\n",
       "      <th>large household</th>\n",
       "      <td>11.793264</td>\n",
       "      <td>1.0</td>\n",
       "      <td>99999.0</td>\n",
       "    </tr>\n",
       "    <tr>\n",
       "      <th>single household</th>\n",
       "      <td>12.129242</td>\n",
       "      <td>1.0</td>\n",
       "      <td>99999.0</td>\n",
       "    </tr>\n",
       "    <tr>\n",
       "      <th>small household</th>\n",
       "      <td>12.369545</td>\n",
       "      <td>1.0</td>\n",
       "      <td>99999.0</td>\n",
       "    </tr>\n",
       "  </tbody>\n",
       "</table>\n",
       "</div>"
      ],
      "text/plain": [
       "                     prices              \n",
       "                       mean  min      max\n",
       "household_size                           \n",
       "large household   11.793264  1.0  99999.0\n",
       "single household  12.129242  1.0  99999.0\n",
       "small household   12.369545  1.0  99999.0"
      ]
     },
     "execution_count": 47,
     "metadata": {},
     "output_type": "execute_result"
    }
   ],
   "source": [
    "#aggregate household size price frequency\n",
    "ords_prods_custs_new.groupby('household_size').agg({'prices':['mean', 'min','max']})"
   ]
  },
  {
   "cell_type": "code",
   "execution_count": 49,
   "id": "cb0966f7",
   "metadata": {},
   "outputs": [],
   "source": [
    "#crosstab orders_days_of_week and household_size\n",
    "household_ords = pd.crosstab(ords_prods_custs_new['orders_days_of_week'], ords_prods_custs_new['household_size'])"
   ]
  },
  {
   "cell_type": "code",
   "execution_count": 50,
   "id": "5657f871",
   "metadata": {},
   "outputs": [
    {
     "data": {
      "text/html": [
       "<div>\n",
       "<style scoped>\n",
       "    .dataframe tbody tr th:only-of-type {\n",
       "        vertical-align: middle;\n",
       "    }\n",
       "\n",
       "    .dataframe tbody tr th {\n",
       "        vertical-align: top;\n",
       "    }\n",
       "\n",
       "    .dataframe thead th {\n",
       "        text-align: right;\n",
       "    }\n",
       "</style>\n",
       "<table border=\"1\" class=\"dataframe\">\n",
       "  <thead>\n",
       "    <tr style=\"text-align: right;\">\n",
       "      <th>household_size</th>\n",
       "      <th>large household</th>\n",
       "      <th>single household</th>\n",
       "      <th>small household</th>\n",
       "    </tr>\n",
       "    <tr>\n",
       "      <th>orders_days_of_week</th>\n",
       "      <th></th>\n",
       "      <th></th>\n",
       "      <th></th>\n",
       "    </tr>\n",
       "  </thead>\n",
       "  <tbody>\n",
       "    <tr>\n",
       "      <th>0</th>\n",
       "      <td>1564100</td>\n",
       "      <td>1550309</td>\n",
       "      <td>1545873</td>\n",
       "    </tr>\n",
       "    <tr>\n",
       "      <th>1</th>\n",
       "      <td>1426184</td>\n",
       "      <td>1424767</td>\n",
       "      <td>1399722</td>\n",
       "    </tr>\n",
       "    <tr>\n",
       "      <th>2</th>\n",
       "      <td>1066795</td>\n",
       "      <td>1049128</td>\n",
       "      <td>1051708</td>\n",
       "    </tr>\n",
       "    <tr>\n",
       "      <th>3</th>\n",
       "      <td>962026</td>\n",
       "      <td>959353</td>\n",
       "      <td>964243</td>\n",
       "    </tr>\n",
       "    <tr>\n",
       "      <th>4</th>\n",
       "      <td>943931</td>\n",
       "      <td>945205</td>\n",
       "      <td>946691</td>\n",
       "    </tr>\n",
       "    <tr>\n",
       "      <th>5</th>\n",
       "      <td>1044235</td>\n",
       "      <td>1057145</td>\n",
       "      <td>1054316</td>\n",
       "    </tr>\n",
       "    <tr>\n",
       "      <th>6</th>\n",
       "      <td>1127838</td>\n",
       "      <td>1111595</td>\n",
       "      <td>1128588</td>\n",
       "    </tr>\n",
       "  </tbody>\n",
       "</table>\n",
       "</div>"
      ],
      "text/plain": [
       "household_size       large household  single household  small household\n",
       "orders_days_of_week                                                    \n",
       "0                            1564100           1550309          1545873\n",
       "1                            1426184           1424767          1399722\n",
       "2                            1066795           1049128          1051708\n",
       "3                             962026            959353           964243\n",
       "4                             943931            945205           946691\n",
       "5                            1044235           1057145          1054316\n",
       "6                            1127838           1111595          1128588"
      ]
     },
     "execution_count": 50,
     "metadata": {},
     "output_type": "execute_result"
    }
   ],
   "source": [
    "household_ords"
   ]
  },
  {
   "cell_type": "code",
   "execution_count": 51,
   "id": "6e86eaec",
   "metadata": {},
   "outputs": [],
   "source": [
    "#crosstab 'order_hour_of_day' and 'household_size'\n",
    "household_ords2 = pd.crosstab(ords_prods_custs_new['order_hour_of_day'], ords_prods_custs_new['household_size'])"
   ]
  },
  {
   "cell_type": "code",
   "execution_count": 52,
   "id": "d97c716b",
   "metadata": {},
   "outputs": [],
   "source": [
    "#crosstab 'loyalty_flag' and 'household_size'\n",
    "loyal_household = pd.crosstab(ords_prods_custs_new['loyalty_flag'], ords_prods_custs_new['household_size'])"
   ]
  },
  {
   "cell_type": "markdown",
   "id": "84b81f12",
   "metadata": {},
   "source": [
    "# Create appropriate visualizations to show distribution of profiles"
   ]
  },
  {
   "cell_type": "code",
   "execution_count": 53,
   "id": "acdc0667",
   "metadata": {},
   "outputs": [
    {
     "data": {
      "image/png": "[encoded data removed]",
      "text/plain": [
       "<Figure size 640x480 with 1 Axes>"
      ]
     },
     "metadata": {},
     "output_type": "display_data"
    }
   ],
   "source": [
    "#create bar chart for 'age_group'\n",
    "bar1 = ords_prods_custs_new ['age_group'].value_counts().plot.bar()"
   ]
  },
  {
   "cell_type": "code",
   "execution_count": 54,
   "id": "75bd436d",
   "metadata": {},
   "outputs": [],
   "source": [
    "#export chart\n",
    "bar1.figure.savefig(os.path.join(path, '04 Analysis', 'bar_age_group'))"
   ]
  },
  {
   "cell_type": "code",
   "execution_count": 55,
   "id": "152d82ef",
   "metadata": {},
   "outputs": [
    {
     "data": {
      "image/png": "[encoded data removed]",
      "text/plain": [
       "<Figure size 640x480 with 1 Axes>"
      ]
     },
     "metadata": {},
     "output_type": "display_data"
    }
   ],
   "source": [
    "#create bar chart for customers based on loyalty flag and household size\n",
    "bar2 = loyal_household.plot(kind = 'bar', stacked = True)"
   ]
  },
  {
   "cell_type": "code",
   "execution_count": 56,
   "id": "670d230d",
   "metadata": {},
   "outputs": [],
   "source": [
    "#export chart\n",
    "bar2.figure.savefig(os.path.join(path, '04 Analysis', 'loyal_household.png'))"
   ]
  },
  {
   "cell_type": "code",
   "execution_count": 57,
   "id": "c521d513",
   "metadata": {},
   "outputs": [
    {
     "data": {
      "image/png": "[encoded data removed]",
      "text/plain": [
       "<Figure size 640x480 with 1 Axes>"
      ]
     },
     "metadata": {},
     "output_type": "display_data"
    }
   ],
   "source": [
    "#create bar chart based on income group\n",
    "bar3 = ords_prods_custs_new['income_group'].value_counts().plot.bar()"
   ]
  },
  {
   "cell_type": "code",
   "execution_count": 58,
   "id": "0dc8ff9f",
   "metadata": {},
   "outputs": [],
   "source": [
    "#export bar chart\n",
    "bar3.figure.savefig(os.path.join(path, '04 Analysis', 'income_group.png'))"
   ]
  },
  {
   "cell_type": "code",
   "execution_count": 60,
   "id": "534b988f",
   "metadata": {},
   "outputs": [
    {
     "data": {
      "image/png": "[encoded data removed]",
      "text/plain": [
       "<Figure size 640x480 with 1 Axes>"
      ]
     },
     "metadata": {},
     "output_type": "display_data"
    }
   ],
   "source": [
    "#create pie chart based on baby status\n",
    "pie1 = ords_prods_custs_new['baby_status'].value_counts().plot.pie(labels = ['No','Yes'], autopct=('%1.f%%'))"
   ]
  },
  {
   "cell_type": "code",
   "execution_count": 61,
   "id": "f4dc35c4",
   "metadata": {},
   "outputs": [],
   "source": [
    "#export pie chart\n",
    "pie1.figure.savefig(os.path.join(path, '04 Analysis', 'baby_status.png'))"
   ]
  },
  {
   "cell_type": "code",
   "execution_count": 63,
   "id": "95b51dc2",
   "metadata": {},
   "outputs": [
    {
     "data": {
      "image/png": "[encoded data removed]",
      "text/plain": [
       "<Figure size 640x480 with 1 Axes>"
      ]
     },
     "metadata": {},
     "output_type": "display_data"
    }
   ],
   "source": [
    "#create bar chart based on orders per day of week and household size\n",
    "bar4 = household_ords.plot(kind= 'bar', stacked = True)"
   ]
  },
  {
   "cell_type": "code",
   "execution_count": 64,
   "id": "d8f14e42",
   "metadata": {},
   "outputs": [],
   "source": [
    "#export bar chart\n",
    "bar4.figure.savefig(os.path.join(path, '04 Analysis', 'household_orders.png'))"
   ]
  },
  {
   "cell_type": "code",
   "execution_count": 65,
   "id": "94f81f46",
   "metadata": {},
   "outputs": [
    {
     "data": {
      "image/png": "[encoded data removed]",
      "text/plain": [
       "<Figure size 640x480 with 1 Axes>"
      ]
     },
     "metadata": {},
     "output_type": "display_data"
    }
   ],
   "source": [
    "#create bar graph based on order_hour_of_day and household size\n",
    "bar5 = household_ords2.plot(kind = 'bar', stacked = True)"
   ]
  },
  {
   "cell_type": "code",
   "execution_count": 66,
   "id": "9b81570f",
   "metadata": {},
   "outputs": [],
   "source": [
    "#export bar chart\n",
    "bar5.figure.savefig(os.path.join(path, '04 Analysis', 'household_orders2.png'))"
   ]
  },
  {
   "cell_type": "markdown",
   "id": "b177cba3",
   "metadata": {},
   "source": [
    "# Comparing customer profiles with regions and departments"
   ]
  },
  {
   "cell_type": "markdown",
   "id": "d3416da8",
   "metadata": {},
   "source": [
    "Compare your customer profiles with regions and departments. Can you identify a link between them? Customers may demonstrate different behaviors across regions, which could make this information important."
   ]
  },
  {
   "cell_type": "markdown",
   "id": "dd78ce20",
   "metadata": {},
   "source": [
    "Produce suitable charts to illustrate your results and export them in your project folder."
   ]
  },
  {
   "cell_type": "code",
   "execution_count": 67,
   "id": "dc259e5e",
   "metadata": {},
   "outputs": [],
   "source": [
    "#crosstab income group and region\n",
    "age_region = pd.crosstab(ords_prods_custs_new['income_group'], ords_prods_custs_new['region'])"
   ]
  },
  {
   "cell_type": "code",
   "execution_count": 68,
   "id": "a829bcd9",
   "metadata": {},
   "outputs": [
    {
     "data": {
      "image/png": "[encoded data removed]",
      "text/plain": [
       "<Figure size 640x480 with 1 Axes>"
      ]
     },
     "metadata": {},
     "output_type": "display_data"
    }
   ],
   "source": [
    "#create bar chart based on income group and region\n",
    "bar8 = age_region.plot(kind = 'bar', stacked = True)"
   ]
  },
  {
   "cell_type": "code",
   "execution_count": 70,
   "id": "17a0ed80",
   "metadata": {},
   "outputs": [],
   "source": [
    "#export bar chart\n",
    "bar8.figure.savefig(os.path.join(path, '04 Analysis', 'age_region.png'))"
   ]
  },
  {
   "cell_type": "code",
   "execution_count": 76,
   "id": "19236da2",
   "metadata": {},
   "outputs": [],
   "source": [
    "#import departments data\n",
    "df_dept = pd.read_csv(os.path.join(path, '02 Data', 'Prepared Data', 'departments_wrangled.csv'))"
   ]
  },
  {
   "cell_type": "code",
   "execution_count": 81,
   "id": "7b84b2e0",
   "metadata": {},
   "outputs": [],
   "source": [
    "#renamed the unnamed column to department id\n",
    "df_dept.rename(columns = {'Unnamed: 0': 'department_id'}, inplace = True)"
   ]
  },
  {
   "cell_type": "code",
   "execution_count": 83,
   "id": "64d62978",
   "metadata": {},
   "outputs": [
    {
     "data": {
      "text/plain": [
       "{1: 'frozen',\n",
       " 2: 'other',\n",
       " 3: 'bakery',\n",
       " 4: 'produce',\n",
       " 5: 'alcohol',\n",
       " 6: 'international',\n",
       " 7: 'beverages',\n",
       " 8: 'pets',\n",
       " 9: 'dry goods pasta',\n",
       " 10: 'bulk',\n",
       " 11: 'personal care',\n",
       " 12: 'meat seafood',\n",
       " 13: 'pantry',\n",
       " 14: 'breakfast',\n",
       " 15: 'canned goods',\n",
       " 16: 'dairy eggs',\n",
       " 17: 'household',\n",
       " 18: 'babies',\n",
       " 19: 'snacks',\n",
       " 20: 'deli',\n",
       " 21: 'missing'}"
      ]
     },
     "execution_count": 83,
     "metadata": {},
     "output_type": "execute_result"
    }
   ],
   "source": [
    "#turn department data into data dictionary\n",
    "zipped=zip(df_dept['department_id'], df_dept['department'])\n",
    "data_dict=dict(zipped)\n",
    "data_dict"
   ]
  },
  {
   "cell_type": "code",
   "execution_count": 86,
   "id": "c1fa6469",
   "metadata": {},
   "outputs": [],
   "source": [
    "#connect department names to department id\n",
    "ords_prods_custs_new['department'] = ords_prods_custs_new['department_id'].map(data_dict)"
   ]
  },
  {
   "cell_type": "code",
   "execution_count": 87,
   "id": "365fcd20",
   "metadata": {},
   "outputs": [],
   "source": [
    "#crosstab department to region\n",
    "region_dept = pd.crosstab(ords_prods_custs_new['department'], ords_prods_custs_new['region'])"
   ]
  },
  {
   "cell_type": "code",
   "execution_count": 89,
   "id": "68b87feb",
   "metadata": {},
   "outputs": [
    {
     "data": {
      "image/png": "[encoded data removed]",
      "text/plain": [
       "<Figure size 640x480 with 1 Axes>"
      ]
     },
     "metadata": {},
     "output_type": "display_data"
    }
   ],
   "source": [
    "#create bar chart based on department and region\n",
    "bar9 = region_dept.plot(kind = 'bar', stacked = True)"
   ]
  },
  {
   "cell_type": "code",
   "execution_count": 90,
   "id": "1501e299",
   "metadata": {},
   "outputs": [],
   "source": [
    "#export bar graph\n",
    "bar9.figure.savefig(os.path.join(path, '04 Analysis', 'region_dept.png'))"
   ]
  },
  {
   "cell_type": "code",
   "execution_count": 92,
   "id": "3c8442e8",
   "metadata": {},
   "outputs": [],
   "source": [
    "#crosstab household_size and region\n",
    "householdsize_reg = pd.crosstab(ords_prods_custs_new['household_size'], ords_prods_custs_new['region'])"
   ]
  },
  {
   "cell_type": "code",
   "execution_count": 94,
   "id": "9258dfc1",
   "metadata": {},
   "outputs": [
    {
     "data": {
      "image/png": "[encoded data removed]",
      "text/plain": [
       "<Figure size 640x480 with 1 Axes>"
      ]
     },
     "metadata": {},
     "output_type": "display_data"
    }
   ],
   "source": [
    "#create bar chart based on household size and region\n",
    "bar10 = householdsize_reg.plot(kind = 'bar', stacked = True)"
   ]
  },
  {
   "cell_type": "code",
   "execution_count": 95,
   "id": "7574c83b",
   "metadata": {},
   "outputs": [],
   "source": [
    "#export bar chart \n",
    "bar10.figure.savefig(os.path.join(path, '04 Analysis', 'householdsize_reg.png'))"
   ]
  },
  {
   "cell_type": "code",
   "execution_count": 96,
   "id": "d8f4febb",
   "metadata": {},
   "outputs": [],
   "source": [
    "#crosstab department and household size\n",
    "householdsize_dept = pd.crosstab(ords_prods_custs_new['department'], ords_prods_custs_new['household_size'])"
   ]
  },
  {
   "cell_type": "code",
   "execution_count": 97,
   "id": "c3a2793f",
   "metadata": {},
   "outputs": [
    {
     "data": {
      "image/png": "[encoded data removed]",
      "text/plain": [
       "<Figure size 640x480 with 1 Axes>"
      ]
     },
     "metadata": {},
     "output_type": "display_data"
    }
   ],
   "source": [
    "#create bar chart based on department and household size\n",
    "bar11 = householdsize_dept.plot(kind = 'bar', stacked = True)"
   ]
  },
  {
   "cell_type": "code",
   "execution_count": 98,
   "id": "0c455fdb",
   "metadata": {},
   "outputs": [],
   "source": [
    "#create bar chart\n",
    "bar11.figure.savefig(os.path.join(path, '04 Analysis', 'householdsize_dept.png'))"
   ]
  },
  {
   "cell_type": "code",
   "execution_count": 99,
   "id": "5756a7d7",
   "metadata": {},
   "outputs": [],
   "source": [
    "#export final data\n",
    "ords_prods_custs_new.to_pickle(os.path.join(path, '02 Data', 'Prepared Data', 'ords_prods_custs_final.pkl'))"
   ]
  },
  {
   "cell_type": "code",
   "execution_count": null,
   "id": "4e612224",
   "metadata": {},
   "outputs": [],
   "source": []
  }
 ],
 "metadata": {
  "kernelspec": {
   "display_name": "Python 3 (ipykernel)",
   "language": "python",
   "name": "python3"
  },
  "language_info": {
   "codemirror_mode": {
    "name": "ipython",
    "version": 3
   },
   "file_extension": ".py",
   "mimetype": "text/x-python",
   "name": "python",
   "nbconvert_exporter": "python",
   "pygments_lexer": "ipython3",
   "version": "3.9.13"
  }
 },
 "nbformat": 4,
 "nbformat_minor": 5
}
