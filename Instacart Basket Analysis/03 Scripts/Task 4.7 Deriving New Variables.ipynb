{
 "cells": [
  {
   "cell_type": "code",
   "execution_count": 1,
   "id": "4615d39e",
   "metadata": {},
   "outputs": [],
   "source": [
    "#import libraries\n",
    "import pandas as pd\n",
    "import numpy as np\n",
    "import os"
   ]
  },
  {
   "cell_type": "code",
   "execution_count": 2,
   "id": "07251f6e",
   "metadata": {},
   "outputs": [],
   "source": [
    "#create path\n",
    "path = r'C:\\Users\\hnguy\\OneDrive\\Documents\\Instacart Basket Analysis'"
   ]
  },
  {
   "cell_type": "code",
   "execution_count": 7,
   "id": "789fec6d",
   "metadata": {},
   "outputs": [],
   "source": [
    "#import orders_products_merged.pkl\n",
    "ords_prods_merged = pd.read_pickle(os.path.join(path, '02 Data','Prepared Data', 'orders_products_merged.pkl'))"
   ]
  },
  {
   "cell_type": "code",
   "execution_count": 8,
   "id": "50cce6c1",
   "metadata": {},
   "outputs": [],
   "source": [
    "#create subset\n",
    "df = ords_prods_merged[:1000000]"
   ]
  },
  {
   "cell_type": "code",
   "execution_count": 11,
   "id": "6388c314",
   "metadata": {},
   "outputs": [],
   "source": [
    "#define function to sort prices into ranges\n",
    "def price_label(row):\n",
    "  \n",
    "    if row['prices'] <= 5:\n",
    "        return 'Low-range product'\n",
    "    elif (row['prices'] > 5) and (row['prices'] <= 15):\n",
    "        return 'Mid-range product'\n",
    "    elif row['prices'] > 15:\n",
    "        return 'High range'\n",
    "    else: return 'Not enough data'"
   ]
  },
  {
   "cell_type": "code",
   "execution_count": 12,
   "id": "1c4d3f6e",
   "metadata": {},
   "outputs": [
    {
     "name": "stderr",
     "output_type": "stream",
     "text": [
      "C:\\Users\\hnguy\\AppData\\Local\\Temp\\ipykernel_20716\\2848743372.py:1: SettingWithCopyWarning: \n",
      "A value is trying to be set on a copy of a slice from a DataFrame.\n",
      "Try using .loc[row_indexer,col_indexer] = value instead\n",
      "\n",
      "See the caveats in the documentation: https://pandas.pydata.org/pandas-docs/stable/user_guide/indexing.html#returning-a-view-versus-a-copy\n",
      "  df['price_range'] = df.apply(price_label, axis=1)\n"
     ]
    }
   ],
   "source": [
    "#use function on dataframe\n",
    "df['price_range'] = df.apply(price_label, axis=1)"
   ]
  },
  {
   "cell_type": "code",
   "execution_count": 13,
   "id": "490307a9",
   "metadata": {},
   "outputs": [
    {
     "data": {
      "text/plain": [
       "Mid-range product    756450\n",
       "Low-range product    243550\n",
       "Name: price_range, dtype: int64"
      ]
     },
     "execution_count": 13,
     "metadata": {},
     "output_type": "execute_result"
    }
   ],
   "source": [
    "#count the frequency of values in price_range column\n",
    "df['price_range'].value_counts(dropna = False)"
   ]
  },
  {
   "cell_type": "code",
   "execution_count": 14,
   "id": "d94ff50a",
   "metadata": {},
   "outputs": [
    {
     "data": {
      "text/plain": [
       "14.8"
      ]
     },
     "execution_count": 14,
     "metadata": {},
     "output_type": "execute_result"
    }
   ],
   "source": [
    "#find maximum price\n",
    "df['prices'].max()"
   ]
  },
  {
   "cell_type": "code",
   "execution_count": 19,
   "id": "b29b081f",
   "metadata": {},
   "outputs": [],
   "source": [
    "#use if statements using loc\n",
    "ords_prods_merged.loc[ords_prods_merged['prices'] > 15, 'price_range_loc'] = 'High-range product'"
   ]
  },
  {
   "cell_type": "code",
   "execution_count": 17,
   "id": "a3870869",
   "metadata": {},
   "outputs": [],
   "source": [
    "ords_prods_merged.loc[(ords_prods_merged['prices'] <= 15) & (ords_prods_merged['prices'] > 5), 'price_range_loc'] = 'Mid-range product'"
   ]
  },
  {
   "cell_type": "code",
   "execution_count": 22,
   "id": "2dbd9b15",
   "metadata": {},
   "outputs": [],
   "source": [
    "ords_prods_merged.loc[ords_prods_merged['prices'] <= 5, 'price_range_loc'] = 'Low-range product'"
   ]
  },
  {
   "cell_type": "code",
   "execution_count": 23,
   "id": "7b8dd9fe",
   "metadata": {},
   "outputs": [
    {
     "data": {
      "text/plain": [
       "Mid-range product     21860860\n",
       "Low-range product     10126321\n",
       "High-range product      417678\n",
       "Name: price_range_loc, dtype: int64"
      ]
     },
     "execution_count": 23,
     "metadata": {},
     "output_type": "execute_result"
    }
   ],
   "source": [
    "ords_prods_merged['price_range_loc'].value_counts(dropna = False)"
   ]
  },
  {
   "cell_type": "code",
   "execution_count": 27,
   "id": "f61c5876",
   "metadata": {},
   "outputs": [
    {
     "data": {
      "text/plain": [
       "0    6204182\n",
       "1    5660230\n",
       "6    4496490\n",
       "2    4213830\n",
       "5    4205791\n",
       "3    3840534\n",
       "4    3783802\n",
       "Name: orders_days_of_week, dtype: int64"
      ]
     },
     "execution_count": 27,
     "metadata": {},
     "output_type": "execute_result"
    }
   ],
   "source": [
    "#find out which day most orders take place\n",
    "ords_prods_merged['orders_days_of_week'].value_counts(dropna = False)"
   ]
  },
  {
   "cell_type": "code",
   "execution_count": 28,
   "id": "055b388e",
   "metadata": {},
   "outputs": [],
   "source": [
    "#create empty list\n",
    "result = []"
   ]
  },
  {
   "cell_type": "code",
   "execution_count": 30,
   "id": "82c4bc47",
   "metadata": {},
   "outputs": [],
   "source": [
    "#create for loop that categorize each day\n",
    "for value in ords_prods_merged[\"orders_days_of_week\"]:\n",
    "  if value == 0:\n",
    "    result.append(\"Busiest day\")\n",
    "  elif value == 4:\n",
    "    result.append(\"Least busy\")\n",
    "  else:\n",
    "    result.append(\"Regularly busy\")"
   ]
  },
  {
   "cell_type": "code",
   "execution_count": 31,
   "id": "23022678",
   "metadata": {},
   "outputs": [],
   "source": [
    "#place that list into a column called busiest day\n",
    "ords_prods_merged['busiest day'] = result"
   ]
  },
  {
   "cell_type": "code",
   "execution_count": 32,
   "id": "42675e4f",
   "metadata": {},
   "outputs": [
    {
     "data": {
      "text/plain": [
       "Regularly busy    22416875\n",
       "Busiest day        6204182\n",
       "Least busy         3783802\n",
       "Name: busiest day, dtype: int64"
      ]
     },
     "execution_count": 32,
     "metadata": {},
     "output_type": "execute_result"
    }
   ],
   "source": [
    "#find the frequency of each value in that column\n",
    "ords_prods_merged['busiest day'].value_counts(dropna = False)"
   ]
  },
  {
   "cell_type": "markdown",
   "id": "206a5b58",
   "metadata": {},
   "source": [
    "# Task 4.7"
   ]
  },
  {
   "cell_type": "markdown",
   "id": "9af370ae",
   "metadata": {},
   "source": [
    "If you haven't done so already, complete the instructions in the Exercise for creating the \"price_label\" and \"busiest_day\" columns."
   ]
  },
  {
   "cell_type": "markdown",
   "id": "2cd8ecf2",
   "metadata": {},
   "source": [
    "Suppose your clients have changed their minds about the labels you created in your \"busiest_day\" column. Now, they want \"Busiest day\" to become \"Busiest days\" (plural). This label should correspond with the two busiest days of the week as opposed to the single busiest day. At the same time, they'd also like to know the two slowest days. Create a new column for this using a suitable method."
   ]
  },
  {
   "cell_type": "code",
   "execution_count": 34,
   "id": "42b61829",
   "metadata": {},
   "outputs": [],
   "source": [
    "#create list \n",
    "results = []"
   ]
  },
  {
   "cell_type": "code",
   "execution_count": 35,
   "id": "a08c70ed",
   "metadata": {},
   "outputs": [],
   "source": [
    "#use for loop to categorize the two busiest and slowest days\n",
    "for value in ords_prods_merged[\"orders_days_of_week\"]:\n",
    "  if value == 0 or value == 1:\n",
    "    results.append(\"Busiest days\")\n",
    "  elif value == 3 or value == 4:\n",
    "    results.append(\"Slowest days\")\n",
    "  else:\n",
    "    results.append(\"Regularly busy days\")"
   ]
  },
  {
   "cell_type": "code",
   "execution_count": 36,
   "id": "df3cf3e9",
   "metadata": {},
   "outputs": [],
   "source": [
    "#place the list in a column called busiest days\n",
    "ords_prods_merged['busiest days'] = results"
   ]
  },
  {
   "cell_type": "markdown",
   "id": "4c06848a",
   "metadata": {},
   "source": [
    "Check the values of this new column for accuracy. Note any observations in markdown format."
   ]
  },
  {
   "cell_type": "code",
   "execution_count": 49,
   "id": "4668dda6",
   "metadata": {},
   "outputs": [
    {
     "data": {
      "text/plain": [
       "Regularly busy days    12916111\n",
       "Busiest days           11864412\n",
       "Slowest days            7624336\n",
       "Name: busiest days, dtype: int64"
      ]
     },
     "execution_count": 49,
     "metadata": {},
     "output_type": "execute_result"
    }
   ],
   "source": [
    "#check frequency of the values in this new column\n",
    "ords_prods_merged['busiest days'].value_counts(dropna = False)"
   ]
  },
  {
   "cell_type": "markdown",
   "id": "6b93a1c5",
   "metadata": {},
   "source": [
    "When too many users make Instacart orders at the same time, the app freezes. The senior technical officer at Instacart wants you to identify the busiest hours of the day. Rather than by hours, they want periods of time labeled \"Most orders,\" \"Average orders,\" and \"Fewest orders.\" Create a new column containing these labels called \"busiest_period_of_day.\""
   ]
  },
  {
   "cell_type": "code",
   "execution_count": 58,
   "id": "5b156847",
   "metadata": {},
   "outputs": [],
   "source": [
    "#create list\n",
    "labels = []"
   ]
  },
  {
   "cell_type": "code",
   "execution_count": 46,
   "id": "84857f2b",
   "metadata": {},
   "outputs": [
    {
     "data": {
      "text/plain": [
       "10    2761760\n",
       "11    2736140\n",
       "14    2689136\n",
       "15    2662144\n",
       "13    2660954\n",
       "12    2618532\n",
       "16    2535202\n",
       "9     2454203\n",
       "17    2087654\n",
       "8     1718118\n",
       "18    1636502\n",
       "19    1258305\n",
       "20     976156\n",
       "7      891054\n",
       "21     795637\n",
       "22     634225\n",
       "23     402316\n",
       "6      290493\n",
       "0      218769\n",
       "1      115700\n",
       "5       87961\n",
       "2       69375\n",
       "4       53242\n",
       "3       51281\n",
       "Name: order_hour_of_day, dtype: int64"
      ]
     },
     "execution_count": 46,
     "metadata": {},
     "output_type": "execute_result"
    }
   ],
   "source": [
    "#check which hour of the day is busy or slow\n",
    "ords_prods_merged['order_hour_of_day'].value_counts(dropna = False)"
   ]
  },
  {
   "cell_type": "code",
   "execution_count": 59,
   "id": "1c96fa94",
   "metadata": {},
   "outputs": [],
   "source": [
    "#create for loop that categorize each hour into groups\n",
    "for value in ords_prods_merged[\"order_hour_of_day\"]:\n",
    "  if value in range(10, 16):\n",
    "    labels.append(\"Most orders\")\n",
    "  elif value in range(0, 6):\n",
    "    labels.append(\"Fewest orders\")\n",
    "  else:\n",
    "    labels.append(\"Average orders\")"
   ]
  },
  {
   "cell_type": "code",
   "execution_count": 63,
   "id": "96ce706d",
   "metadata": {},
   "outputs": [],
   "source": [
    "#place the list into a column called busiest_period_of_day\n",
    "ords_prods_merged['busiest_period_of_day'] = labels"
   ]
  },
  {
   "cell_type": "markdown",
   "id": "3fa15dac",
   "metadata": {},
   "source": [
    "Print the frequency of this new column."
   ]
  },
  {
   "cell_type": "code",
   "execution_count": 65,
   "id": "7b4e6256",
   "metadata": {},
   "outputs": [
    {
     "data": {
      "text/plain": [
       "Most orders       16128666\n",
       "Average orders    15679865\n",
       "Fewest orders       596328\n",
       "Name: busiest_period_of_day, dtype: int64"
      ]
     },
     "execution_count": 65,
     "metadata": {},
     "output_type": "execute_result"
    }
   ],
   "source": [
    "#print frequency of values in this column\n",
    "ords_prods_merged['busiest_period_of_day'].value_counts(dropna = False)"
   ]
  },
  {
   "cell_type": "markdown",
   "id": "de68eb2d",
   "metadata": {},
   "source": [
    "Export your dataframe as a pickle file (since you added new columns) and store it correctly in your \"Prepared Data\" folder."
   ]
  },
  {
   "cell_type": "code",
   "execution_count": 66,
   "id": "98eae0ab",
   "metadata": {},
   "outputs": [],
   "source": [
    "#export dataframe\n",
    "ords_prods_merged.to_pickle(os.path.join(path, '02 Data','Prepared Data', 'orders_products_derived.pkl'))"
   ]
  },
  {
   "cell_type": "code",
   "execution_count": null,
   "id": "dc1237ad",
   "metadata": {},
   "outputs": [],
   "source": []
  }
 ],
 "metadata": {
  "kernelspec": {
   "display_name": "Python 3 (ipykernel)",
   "language": "python",
   "name": "python3"
  },
  "language_info": {
   "codemirror_mode": {
    "name": "ipython",
    "version": 3
   },
   "file_extension": ".py",
   "mimetype": "text/x-python",
   "name": "python",
   "nbconvert_exporter": "python",
   "pygments_lexer": "ipython3",
   "version": "3.9.13"
  }
 },
 "nbformat": 4,
 "nbformat_minor": 5
}
